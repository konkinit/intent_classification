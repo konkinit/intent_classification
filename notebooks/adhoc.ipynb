{
 "cells": [
  {
   "cell_type": "code",
   "execution_count": null,
   "metadata": {},
   "outputs": [],
   "source": [
    "import os\n",
    "import json\n",
    "import numpy as np\n",
    "from pandas import DataFrame, read_csv\n",
    "from typing import List\n",
    "from transformers import BertModel, BertTokenizer\n",
    "import torch"
   ]
  },
  {
   "cell_type": "code",
   "execution_count": null,
   "metadata": {},
   "outputs": [],
   "source": [
    "os.chdir(\"../\")\n",
    "from src.data.request_data import getDataTF, getDataHF\n",
    "from src.data.processing_data import BERTdata"
   ]
  },
  {
   "cell_type": "code",
   "execution_count": null,
   "metadata": {},
   "outputs": [],
   "source": [
    "with open(r\"./inputs_data/tokens.json\") as file:\n",
    "    input = json.load(file)\n",
    "\n",
    "model_id = input[\"model_id\"]\n",
    "hf_token = input[\"hf_token\"]"
   ]
  },
  {
   "cell_type": "code",
   "execution_count": null,
   "metadata": {},
   "outputs": [],
   "source": [
    "# url_dyda_da = input[\"url_dyda_da\"]\n",
    "# df_dyda_da = getDataHF(url_dyda_da)\n",
    "# getDataTF(\"dyda_da\", \"train\")"
   ]
  },
  {
   "cell_type": "code",
   "execution_count": null,
   "metadata": {},
   "outputs": [],
   "source": [
    "df_dyda_da_train = read_csv(\"./inputs_data/data_dyda_da_train.csv\", encoding=\"utf-8\", sep=\"|\")\n",
    "df_dyda_da_train.head()"
   ]
  },
  {
   "cell_type": "code",
   "execution_count": null,
   "metadata": {},
   "outputs": [],
   "source": [
    "Contexts, Labels = BERTdata(df_dyda_da_train, 5).get_contexts_labels()"
   ]
  },
  {
   "cell_type": "code",
   "execution_count": null,
   "metadata": {},
   "outputs": [],
   "source": [
    "Contexts[:3]"
   ]
  },
  {
   "cell_type": "code",
   "execution_count": null,
   "metadata": {},
   "outputs": [],
   "source": [
    "Labels"
   ]
  },
  {
   "attachments": {},
   "cell_type": "markdown",
   "metadata": {},
   "source": [
    "## Testing BERT embedding"
   ]
  },
  {
   "cell_type": "code",
   "execution_count": null,
   "metadata": {},
   "outputs": [],
   "source": [
    "model_name = 'bert-base-uncased'\n",
    "model = BertModel.from_pretrained(model_name)\n",
    "tokenizer = BertTokenizer.from_pretrained(model_name)\n",
    "\n",
    "input_text = \"a test for encoder\"#Here is some text to encode\"#, \"from a high school\"]\n",
    "# tokenizer -> token_id\n",
    "input_ids = torch.tensor([tokenizer.encode(input_text, add_special_tokens=True)])\n",
    "\n",
    "with torch.no_grad():\n",
    "    # Models outputs are now tuples\n",
    "    last_hidden_states = model(input_ids)[0] \n",
    "# last_hidden_states = last_hidden_states.mean(1)\n",
    "print(last_hidden_states)\n",
    "# size of last_hidden_states is [1,768]"
   ]
  },
  {
   "cell_type": "code",
   "execution_count": null,
   "metadata": {},
   "outputs": [],
   "source": [
    "last_hidden_states.shape == torch.Size([1, 8, 768])"
   ]
  },
  {
   "cell_type": "code",
   "execution_count": null,
   "metadata": {},
   "outputs": [],
   "source": [
    "#model = BertModel.from_pretrained(\"bert-base-uncased\")\n",
    "#embedding_matrix = model.embeddings.word_embeddings.weight"
   ]
  },
  {
   "cell_type": "code",
   "execution_count": null,
   "metadata": {},
   "outputs": [],
   "source": [
    "#def embedding(texts: List[str],\n",
    "#              model_id: str,\n",
    "#              hf_token: str):\n",
    "#    api_url = f\"https://api-inference.huggingface.co/pipeline/feature-extraction/{model_id}\"\n",
    "#    headers = {\"Authorization\": f\"Bearer {hf_token}\"}\n",
    "#    response = requests.post(api_url, \n",
    "#                             headers=headers, \n",
    "#                             json={\"inputs\": texts, \n",
    "#                                   \"options\":{\"wait_for_model\":True}})\n",
    "#    return response.json()"
   ]
  },
  {
   "cell_type": "code",
   "execution_count": null,
   "metadata": {},
   "outputs": [],
   "source": []
  }
 ],
 "metadata": {
  "kernelspec": {
   "display_name": "base",
   "language": "python",
   "name": "python3"
  },
  "language_info": {
   "codemirror_mode": {
    "name": "ipython",
    "version": 3
   },
   "file_extension": ".py",
   "mimetype": "text/x-python",
   "name": "python",
   "nbconvert_exporter": "python",
   "pygments_lexer": "ipython3",
   "version": "3.9.13"
  },
  "orig_nbformat": 4,
  "vscode": {
   "interpreter": {
    "hash": "c56d72c1f3e2875ebbfe306c77853982cb6a556161e151868ef87de4f1b5584b"
   }
  }
 },
 "nbformat": 4,
 "nbformat_minor": 2
}
