{
 "cells": [
  {
   "cell_type": "code",
   "execution_count": 1,
   "metadata": {},
   "outputs": [
    {
     "name": "stderr",
     "output_type": "stream",
     "text": [
      "2023-03-12 18:15:06.342364: I tensorflow/core/platform/cpu_feature_guard.cc:193] This TensorFlow binary is optimized with oneAPI Deep Neural Network Library (oneDNN) to use the following CPU instructions in performance-critical operations:  AVX2 AVX512F FMA\n",
      "To enable them in other operations, rebuild TensorFlow with the appropriate compiler flags.\n",
      "2023-03-12 18:15:07.050687: W tensorflow/compiler/xla/stream_executor/platform/default/dso_loader.cc:64] Could not load dynamic library 'libnvinfer.so.7'; dlerror: libnvinfer.so.7: cannot open shared object file: No such file or directory; LD_LIBRARY_PATH: /usr/local/nvidia/lib:/usr/local/nvidia/lib64\n",
      "2023-03-12 18:15:07.050784: W tensorflow/compiler/xla/stream_executor/platform/default/dso_loader.cc:64] Could not load dynamic library 'libnvinfer_plugin.so.7'; dlerror: libnvinfer_plugin.so.7: cannot open shared object file: No such file or directory; LD_LIBRARY_PATH: /usr/local/nvidia/lib:/usr/local/nvidia/lib64\n",
      "2023-03-12 18:15:07.050790: W tensorflow/compiler/tf2tensorrt/utils/py_utils.cc:38] TF-TRT Warning: Cannot dlopen some TensorRT libraries. If you would like to use Nvidia GPU with TensorRT, please make sure the missing libraries mentioned above are installed properly.\n"
     ]
    }
   ],
   "source": [
    "import os\n",
    "import pandas as pd\n",
    "import numpy as np\n",
    "import seaborn as sns\n",
    "import matplotlib.pyplot as plt\n",
    "import tensorflow as tf\n",
    "import torch.nn.functional as F\n",
    "from sklearn.metrics import confusion_matrix\n",
    "os.chdir(\"../\")\n",
    "from tqdm import tqdm\n",
    "# from src.utils.get_datasets import getDataTF, getDataHF\n",
    "from src.data.processing_data import Format\n",
    "from src.models.pipelines import Pipeline\n",
    "from src.models.encoders import TransformersEncoder\n",
    "from src.utils.models_utils import _confusion_matrix\n",
    "\n",
    "\n",
    "sns.set_theme()"
   ]
  },
  {
   "cell_type": "code",
   "execution_count": 2,
   "metadata": {},
   "outputs": [],
   "source": [
    "_dataset = \"dyda_da\""
   ]
  },
  {
   "cell_type": "code",
   "execution_count": 3,
   "metadata": {},
   "outputs": [
    {
     "data": {
      "text/html": [
       "<div>\n",
       "<style scoped>\n",
       "    .dataframe tbody tr th:only-of-type {\n",
       "        vertical-align: middle;\n",
       "    }\n",
       "\n",
       "    .dataframe tbody tr th {\n",
       "        vertical-align: top;\n",
       "    }\n",
       "\n",
       "    .dataframe thead th {\n",
       "        text-align: right;\n",
       "    }\n",
       "</style>\n",
       "<table border=\"1\" class=\"dataframe\">\n",
       "  <thead>\n",
       "    <tr style=\"text-align: right;\">\n",
       "      <th></th>\n",
       "      <th>Utterance</th>\n",
       "      <th>Dialogue_ID</th>\n",
       "      <th>Label</th>\n",
       "    </tr>\n",
       "  </thead>\n",
       "  <tbody>\n",
       "    <tr>\n",
       "      <th>0</th>\n",
       "      <td>hey man , you wanna buy some weed ?</td>\n",
       "      <td>1</td>\n",
       "      <td>directive</td>\n",
       "    </tr>\n",
       "    <tr>\n",
       "      <th>1</th>\n",
       "      <td>some what ?</td>\n",
       "      <td>1</td>\n",
       "      <td>question</td>\n",
       "    </tr>\n",
       "    <tr>\n",
       "      <th>2</th>\n",
       "      <td>weed ! you know ? pot , ganja , mary jane some...</td>\n",
       "      <td>1</td>\n",
       "      <td>directive</td>\n",
       "    </tr>\n",
       "    <tr>\n",
       "      <th>3</th>\n",
       "      <td>oh , umm , no thanks .</td>\n",
       "      <td>1</td>\n",
       "      <td>commissive</td>\n",
       "    </tr>\n",
       "    <tr>\n",
       "      <th>4</th>\n",
       "      <td>i also have blow if you prefer to do a few lin...</td>\n",
       "      <td>1</td>\n",
       "      <td>directive</td>\n",
       "    </tr>\n",
       "  </tbody>\n",
       "</table>\n",
       "</div>"
      ],
      "text/plain": [
       "                                           Utterance  Dialogue_ID       Label\n",
       "0                hey man , you wanna buy some weed ?            1   directive\n",
       "1                                        some what ?            1    question\n",
       "2  weed ! you know ? pot , ganja , mary jane some...            1   directive\n",
       "3                             oh , umm , no thanks .            1  commissive\n",
       "4  i also have blow if you prefer to do a few lin...            1   directive"
      ]
     },
     "execution_count": 3,
     "metadata": {},
     "output_type": "execute_result"
    }
   ],
   "source": [
    "df = pd.read_csv(f\"./inputs_data/data_{_dataset}_test.csv\", encoding=\"utf-8\",  sep=\"|\")\n",
    "df.head()"
   ]
  },
  {
   "cell_type": "code",
   "execution_count": 4,
   "metadata": {},
   "outputs": [
    {
     "data": {
      "text/plain": [
       "Label\n",
       "inform        3534\n",
       "question      2210\n",
       "directive     1278\n",
       "commissive     718\n",
       "dtype: int64"
      ]
     },
     "execution_count": 4,
     "metadata": {},
     "output_type": "execute_result"
    }
   ],
   "source": [
    "# frequency of each dialog acts \n",
    "df.value_counts(\"Label\")"
   ]
  },
  {
   "cell_type": "code",
   "execution_count": 5,
   "metadata": {},
   "outputs": [
    {
     "data": {
      "text/plain": [
       "4"
      ]
     },
     "execution_count": 5,
     "metadata": {},
     "output_type": "execute_result"
    }
   ],
   "source": [
    "# number of distinct label i the dataset\n",
    "len(df[\"Label\"].unique())"
   ]
  },
  {
   "cell_type": "code",
   "execution_count": 6,
   "metadata": {},
   "outputs": [
    {
     "data": {
      "text/plain": [
       "1000"
      ]
     },
     "execution_count": 6,
     "metadata": {},
     "output_type": "execute_result"
    }
   ],
   "source": [
    "# number of distinct dialogue i the dataset\n",
    "len(df[\"Dialogue_ID\"].unique())"
   ]
  },
  {
   "cell_type": "code",
   "execution_count": 7,
   "metadata": {},
   "outputs": [
    {
     "name": "stderr",
     "output_type": "stream",
     "text": [
      "2023-03-12 18:15:15.185019: I tensorflow/core/platform/cpu_feature_guard.cc:193] This TensorFlow binary is optimized with oneAPI Deep Neural Network Library (oneDNN) to use the following CPU instructions in performance-critical operations:  AVX2 AVX512F FMA\n",
      "To enable them in other operations, rebuild TensorFlow with the appropriate compiler flags.\n",
      "2023-03-12 18:15:15.895766: I tensorflow/core/common_runtime/gpu/gpu_device.cc:1613] Created device /job:localhost/replica:0/task:0/device:GPU:0 with 13581 MB memory:  -> device: 0, name: Tesla T4, pci bus id: 0000:3b:00.0, compute capability: 7.5\n"
     ]
    }
   ],
   "source": [
    "dimDialogAct, Contexts, Labels = Format(_dataset, 5, \"spread\").get_contexts_labels()"
   ]
  },
  {
   "cell_type": "code",
   "execution_count": 8,
   "metadata": {},
   "outputs": [
    {
     "data": {
      "text/plain": [
       "TensorShape([741, 5, 4])"
      ]
     },
     "execution_count": 8,
     "metadata": {},
     "output_type": "execute_result"
    }
   ],
   "source": [
    "Labels[2].shape"
   ]
  },
  {
   "cell_type": "code",
   "execution_count": 9,
   "metadata": {},
   "outputs": [
    {
     "data": {
      "text/plain": [
       "['hey man , you wanna buy some weed ?',\n",
       " 'some what ?',\n",
       " 'weed ! you know ? pot , ganja , mary jane some chronic !',\n",
       " 'oh , umm , no thanks .',\n",
       " 'i also have blow if you prefer to do a few lines .']"
      ]
     },
     "execution_count": 9,
     "metadata": {},
     "output_type": "execute_result"
    }
   ],
   "source": [
    "Contexts[2][0]"
   ]
  },
  {
   "cell_type": "code",
   "execution_count": 10,
   "metadata": {},
   "outputs": [],
   "source": [
    "# TransformersEncoder('xlnet-base-cased', \"spread\", 50).batch_embedding(Contexts[0])"
   ]
  },
  {
   "attachments": {},
   "cell_type": "markdown",
   "metadata": {},
   "source": [
    "## Testing Pipeline working"
   ]
  },
  {
   "cell_type": "code",
   "execution_count": 11,
   "metadata": {},
   "outputs": [
    {
     "name": "stderr",
     "output_type": "stream",
     "text": [
      "Some weights of the model checkpoint at bert-base-uncased were not used when initializing BertModel: ['cls.predictions.transform.dense.bias', 'cls.predictions.bias', 'cls.seq_relationship.bias', 'cls.predictions.transform.LayerNorm.bias', 'cls.predictions.transform.LayerNorm.weight', 'cls.seq_relationship.weight', 'cls.predictions.decoder.weight', 'cls.predictions.transform.dense.weight']\n",
      "- This IS expected if you are initializing BertModel from the checkpoint of a model trained on another task or with another architecture (e.g. initializing a BertForSequenceClassification model from a BertForPreTraining model).\n",
      "- This IS NOT expected if you are initializing BertModel from the checkpoint of a model that you expect to be exactly identical (initializing a BertForSequenceClassification model from a BertForSequenceClassification model).\n",
      "100%|██████████| 8269/8269 [08:50<00:00, 15.59it/s]\n",
      "Some weights of the model checkpoint at bert-base-uncased were not used when initializing BertModel: ['cls.predictions.transform.dense.bias', 'cls.predictions.bias', 'cls.seq_relationship.bias', 'cls.predictions.transform.LayerNorm.bias', 'cls.predictions.transform.LayerNorm.weight', 'cls.seq_relationship.weight', 'cls.predictions.decoder.weight', 'cls.predictions.transform.dense.weight']\n",
      "- This IS expected if you are initializing BertModel from the checkpoint of a model trained on another task or with another architecture (e.g. initializing a BertForSequenceClassification model from a BertForPreTraining model).\n",
      "- This IS NOT expected if you are initializing BertModel from the checkpoint of a model that you expect to be exactly identical (initializing a BertForSequenceClassification model from a BertForSequenceClassification model).\n",
      "100%|██████████| 788/788 [00:51<00:00, 15.18it/s]\n",
      "Some weights of the model checkpoint at bert-base-uncased were not used when initializing BertModel: ['cls.predictions.transform.dense.bias', 'cls.predictions.bias', 'cls.seq_relationship.bias', 'cls.predictions.transform.LayerNorm.bias', 'cls.predictions.transform.LayerNorm.weight', 'cls.seq_relationship.weight', 'cls.predictions.decoder.weight', 'cls.predictions.transform.dense.weight']\n",
      "- This IS expected if you are initializing BertModel from the checkpoint of a model trained on another task or with another architecture (e.g. initializing a BertForSequenceClassification model from a BertForPreTraining model).\n",
      "- This IS NOT expected if you are initializing BertModel from the checkpoint of a model that you expect to be exactly identical (initializing a BertForSequenceClassification model from a BertForSequenceClassification model).\n",
      "100%|██████████| 741/741 [00:49<00:00, 15.02it/s]\n"
     ]
    },
    {
     "name": "stdout",
     "output_type": "stream",
     "text": [
      "Epoch 1/500\n"
     ]
    },
    {
     "name": "stderr",
     "output_type": "stream",
     "text": [
      "2023-03-12 18:26:01.669956: I tensorflow/compiler/xla/stream_executor/cuda/cuda_dnn.cc:428] Loaded cuDNN version 8500\n"
     ]
    },
    {
     "name": "stdout",
     "output_type": "stream",
     "text": [
      "  1/517 [..............................] - ETA: 21:44 - loss: 2.7785"
     ]
    },
    {
     "name": "stderr",
     "output_type": "stream",
     "text": [
      "2023-03-12 18:26:01.960562: I tensorflow/compiler/xla/service/service.cc:173] XLA service 0x7f9b3801fc90 initialized for platform CUDA (this does not guarantee that XLA will be used). Devices:\n",
      "2023-03-12 18:26:01.960601: I tensorflow/compiler/xla/service/service.cc:181]   StreamExecutor device (0): Tesla T4, Compute Capability 7.5\n",
      "2023-03-12 18:26:01.965899: I tensorflow/compiler/mlir/tensorflow/utils/dump_mlir_util.cc:268] disabling MLIR crash reproducer, set env var `MLIR_CRASH_REPRODUCER_DIRECTORY` to enable.\n",
      "2023-03-12 18:26:02.111577: I tensorflow/compiler/jit/xla_compilation_cache.cc:477] Compiled cluster using XLA!  This line is logged at most once for the lifetime of the process.\n"
     ]
    },
    {
     "name": "stdout",
     "output_type": "stream",
     "text": [
      "517/517 [==============================] - 7s 8ms/step - loss: 0.4702 - val_loss: 0.3934\n",
      "Epoch 2/500\n",
      "517/517 [==============================] - 4s 8ms/step - loss: 0.3318 - val_loss: 0.3290\n",
      "Epoch 3/500\n",
      "517/517 [==============================] - 4s 7ms/step - loss: 0.3008 - val_loss: 0.3184\n",
      "Epoch 4/500\n",
      "517/517 [==============================] - 4s 8ms/step - loss: 0.2799 - val_loss: 0.3048\n",
      "Epoch 5/500\n",
      "517/517 [==============================] - 4s 7ms/step - loss: 0.2738 - val_loss: 0.3430\n",
      "Epoch 6/500\n",
      "517/517 [==============================] - 4s 7ms/step - loss: 0.2665 - val_loss: 0.2951\n",
      "Epoch 7/500\n",
      "517/517 [==============================] - 4s 8ms/step - loss: 0.2585 - val_loss: 0.2910\n",
      "Epoch 8/500\n",
      "517/517 [==============================] - 4s 7ms/step - loss: 0.2551 - val_loss: 0.2917\n",
      "Epoch 9/500\n",
      "517/517 [==============================] - 4s 7ms/step - loss: 0.2570 - val_loss: 0.2889\n",
      "Epoch 10/500\n",
      "517/517 [==============================] - 4s 8ms/step - loss: 0.2502 - val_loss: 0.2863\n",
      "Epoch 11/500\n",
      "517/517 [==============================] - 4s 7ms/step - loss: 0.2484 - val_loss: 0.2842\n",
      "Epoch 12/500\n",
      "517/517 [==============================] - 4s 7ms/step - loss: 0.2433 - val_loss: 0.2787\n",
      "Epoch 13/500\n",
      "517/517 [==============================] - 4s 8ms/step - loss: 0.2396 - val_loss: 0.2743\n",
      "Epoch 14/500\n",
      "517/517 [==============================] - 4s 8ms/step - loss: 0.2370 - val_loss: 0.2858\n",
      "Epoch 15/500\n",
      "517/517 [==============================] - 4s 7ms/step - loss: 0.2360 - val_loss: 0.2745\n",
      "Epoch 16/500\n",
      "517/517 [==============================] - 4s 8ms/step - loss: 0.2352 - val_loss: 0.2720\n",
      "Epoch 17/500\n",
      "517/517 [==============================] - 4s 8ms/step - loss: 0.2327 - val_loss: 0.2756\n",
      "Epoch 18/500\n",
      "517/517 [==============================] - 4s 8ms/step - loss: 0.2328 - val_loss: 0.2745\n",
      "Epoch 19/500\n",
      "517/517 [==============================] - 4s 7ms/step - loss: 0.2303 - val_loss: 0.2741\n",
      "Epoch 20/500\n",
      "517/517 [==============================] - 4s 8ms/step - loss: 0.2283 - val_loss: 0.2751\n",
      "Epoch 21/500\n",
      "517/517 [==============================] - 4s 7ms/step - loss: 0.2269 - val_loss: 0.2677\n",
      "Epoch 22/500\n",
      "517/517 [==============================] - 4s 7ms/step - loss: 0.2249 - val_loss: 0.2709\n",
      "Epoch 23/500\n",
      "517/517 [==============================] - 4s 8ms/step - loss: 0.2249 - val_loss: 0.2627\n",
      "Epoch 24/500\n",
      "517/517 [==============================] - 4s 7ms/step - loss: 0.2240 - val_loss: 0.2658\n",
      "Epoch 25/500\n",
      "517/517 [==============================] - 4s 7ms/step - loss: 0.2232 - val_loss: 0.2715\n",
      "Epoch 26/500\n",
      "517/517 [==============================] - 4s 7ms/step - loss: 0.2220 - val_loss: 0.2806\n",
      "Epoch 27/500\n",
      "517/517 [==============================] - 4s 7ms/step - loss: 0.2214 - val_loss: 0.2673\n",
      "Epoch 28/500\n",
      "517/517 [==============================] - 4s 8ms/step - loss: 0.2285 - val_loss: 0.2734\n",
      "Epoch 29/500\n",
      "517/517 [==============================] - 4s 7ms/step - loss: 0.2211 - val_loss: 0.2722\n",
      "Epoch 30/500\n",
      "517/517 [==============================] - 4s 8ms/step - loss: 0.2201 - val_loss: 0.2750\n",
      "Epoch 31/500\n",
      "517/517 [==============================] - 4s 7ms/step - loss: 0.2196 - val_loss: 0.2699\n",
      "Epoch 32/500\n",
      "517/517 [==============================] - 4s 7ms/step - loss: 0.2190 - val_loss: 0.2740\n",
      "Epoch 33/500\n",
      "517/517 [==============================] - 4s 7ms/step - loss: 0.2197 - val_loss: 0.2702\n",
      "24/24 [==============================] - 1s 3ms/step\n"
     ]
    }
   ],
   "source": [
    "_pipeline = Pipeline(\n",
    "    \"dyda_da\",\n",
    "    \"spread\",\n",
    "    5,\n",
    "    'bert-base-uncased',\n",
    "    \"GRU\")\n",
    "_pipeline.summarize()"
   ]
  },
  {
   "cell_type": "code",
   "execution_count": 12,
   "metadata": {},
   "outputs": [
    {
     "data": {
      "text/html": [
       "<div>\n",
       "<style scoped>\n",
       "    .dataframe tbody tr th:only-of-type {\n",
       "        vertical-align: middle;\n",
       "    }\n",
       "\n",
       "    .dataframe tbody tr th {\n",
       "        vertical-align: top;\n",
       "    }\n",
       "\n",
       "    .dataframe thead th {\n",
       "        text-align: right;\n",
       "    }\n",
       "</style>\n",
       "<table border=\"1\" class=\"dataframe\">\n",
       "  <thead>\n",
       "    <tr style=\"text-align: right;\">\n",
       "      <th></th>\n",
       "      <th>dataset_name</th>\n",
       "      <th>encoder_model</th>\n",
       "      <th>decoder_model</th>\n",
       "      <th>performance</th>\n",
       "    </tr>\n",
       "  </thead>\n",
       "  <tbody>\n",
       "    <tr>\n",
       "      <th>0</th>\n",
       "      <td>dyda_da</td>\n",
       "      <td>bert-base-uncased</td>\n",
       "      <td>GRU</td>\n",
       "      <td>0.836707</td>\n",
       "    </tr>\n",
       "  </tbody>\n",
       "</table>\n",
       "</div>"
      ],
      "text/plain": [
       "  dataset_name      encoder_model decoder_model  performance\n",
       "0      dyda_da  bert-base-uncased           GRU     0.836707"
      ]
     },
     "execution_count": 12,
     "metadata": {},
     "output_type": "execute_result"
    }
   ],
   "source": [
    "_pipeline.df_report"
   ]
  },
  {
   "cell_type": "code",
   "execution_count": 22,
   "metadata": {},
   "outputs": [
    {
     "data": {
      "image/png": "[encoded data removed]",
      "text/plain": [
       "<Figure size 640x480 with 2 Axes>"
      ]
     },
     "metadata": {},
     "output_type": "display_data"
    }
   ],
   "source": [
    "df_cm = pd.DataFrame(_pipeline.confusion_mat,\n",
    "                     index = Format(\"dyda_da\", 5, \"spread\").get_distincts_labels(),\n",
    "                     columns = Format(\"dyda_da\", 5, \"spread\").get_distincts_labels())\n",
    "sns.heatmap(df_cm, annot=True)\n",
    "plt.show()"
   ]
  },
  {
   "cell_type": "code",
   "execution_count": null,
   "metadata": {},
   "outputs": [],
   "source": []
  }
 ],
 "metadata": {
  "kernelspec": {
   "display_name": "base",
   "language": "python",
   "name": "python3"
  },
  "language_info": {
   "codemirror_mode": {
    "name": "ipython",
    "version": 3
   },
   "file_extension": ".py",
   "mimetype": "text/x-python",
   "name": "python",
   "nbconvert_exporter": "python",
   "pygments_lexer": "ipython3",
   "version": "3.10.8"
  },
  "orig_nbformat": 4,
  "vscode": {
   "interpreter": {
    "hash": "3fa046f995eb80ac40c0869a1f9df46519f4ada8b8c395ef25dd1aa1a1a2fc63"
   }
  }
 },
 "nbformat": 4,
 "nbformat_minor": 2
}
