{
 "cells": [
  {
   "cell_type": "code",
   "execution_count": null,
   "metadata": {},
   "outputs": [],
   "source": [
    "import os\n",
    "import json\n",
    "import numpy as np\n",
    "from pandas import DataFrame, read_csv\n",
    "from typing import List\n",
    "import requests\n",
    "import tensorflow_datasets as tfds\n",
    "os.chdir(\"../\")\n",
    "from src.data.request_data import getDataTF, getDataHF"
   ]
  },
  {
   "cell_type": "code",
   "execution_count": null,
   "metadata": {},
   "outputs": [],
   "source": [
    "with open(r\"./inputs_data/tokens.json\") as file:\n",
    "    input = json.load(file)"
   ]
  },
  {
   "cell_type": "code",
   "execution_count": null,
   "metadata": {},
   "outputs": [],
   "source": [
    "# url_dyda_da = input[\"url_dyda_da\"]\n",
    "# df_dyda_da = getDataHF(url_dyda_da)\n",
    "# getDataTF(\"dyda_da\", \"train\")"
   ]
  },
  {
   "cell_type": "code",
   "execution_count": null,
   "metadata": {},
   "outputs": [],
   "source": [
    "df_dyda_da = read_csv(\"./inputs_data/data_dyda_da_train.csv\", encoding=\"utf-8\", sep=\"|\")\n",
    "df_dyda_da.head()"
   ]
  },
  {
   "cell_type": "code",
   "execution_count": null,
   "metadata": {},
   "outputs": [],
   "source": [
    "def __getCY__(df: DataFrame):\n",
    "    return (df.groupby(\"Dialogue_ID\")[\"Label\"].apply(list).to_list(),\n",
    "            df.groupby(\"Dialogue_ID\")[\"Utterance\"].apply(list).to_list()\n",
    "        )\n",
    "\n",
    "def embedding(texts: List[str],\n",
    "              model_id: str,\n",
    "              hf_token: str):\n",
    "    api_url = f\"https://api-inference.huggingface.co/pipeline/feature-extraction/{model_id}\"\n",
    "    headers = {\"Authorization\": f\"Bearer {hf_token}\"}\n",
    "\n",
    "    response = requests.post(api_url, \n",
    "                             headers=headers, \n",
    "                             json={\"inputs\": texts, \n",
    "                                   \"options\":{\"wait_for_model\":True}})\n",
    "    return response.json()\n",
    "\n",
    "def reshaping(x: np.ndarray): return x.reshape(1, x.shape[0], x.shape[1])"
   ]
  },
  {
   "cell_type": "code",
   "execution_count": null,
   "metadata": {},
   "outputs": [],
   "source": [
    "model_id = input[\"model_id\"]\n",
    "hf_token = input[\"hf_token\"]\n",
    "\n",
    "Y, C = __getCY__(df_dyda_da)\n",
    "\n",
    "C_embeddings = np.vstack((np.array(embedding(c, model_id, hf_token)) for c in C[:10]))"
   ]
  },
  {
   "cell_type": "code",
   "execution_count": null,
   "metadata": {},
   "outputs": [],
   "source": [
    "C_embeddings"
   ]
  },
  {
   "cell_type": "code",
   "execution_count": null,
   "metadata": {},
   "outputs": [],
   "source": []
  }
 ],
 "metadata": {
  "kernelspec": {
   "display_name": "Python 3",
   "language": "python",
   "name": "python3"
  },
  "language_info": {
   "codemirror_mode": {
    "name": "ipython",
    "version": 3
   },
   "file_extension": ".py",
   "mimetype": "text/x-python",
   "name": "python",
   "nbconvert_exporter": "python",
   "pygments_lexer": "ipython3",
   "version": "3.10.6"
  },
  "orig_nbformat": 4,
  "vscode": {
   "interpreter": {
    "hash": "31f2aee4e71d21fbe5cf8b01ff0e069b9275f58929596ceb00d14d90e3e16cd6"
   }
  }
 },
 "nbformat": 4,
 "nbformat_minor": 2
}
