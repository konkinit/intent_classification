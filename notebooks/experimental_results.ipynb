{
 "cells": [
  {
   "cell_type": "code",
   "execution_count": null,
   "metadata": {},
   "outputs": [],
   "source": [
    "import os\n",
    "from itertools import product\n",
    "from pandas import concat, DataFrame, set_option\n",
    "from seaborn import set_theme\n",
    "os.chdir(\"../\")\n",
    "from src.utils import _plot_confusion_matrix\n",
    "from src.data import Format\n",
    "from src.models import Pipeline"
   ]
  },
  {
   "cell_type": "code",
   "execution_count": null,
   "metadata": {},
   "outputs": [],
   "source": [
    "set_option('display.max_columns', None)\n",
    "set_theme()"
   ]
  },
  {
   "attachments": {},
   "cell_type": "markdown",
   "metadata": {},
   "source": [
    "# Prediction Global Report"
   ]
  },
  {
   "cell_type": "code",
   "execution_count": null,
   "metadata": {},
   "outputs": [],
   "source": [
    "\"\"\" initialize variables \"\"\"\n",
    "_list_datasets_T = [\n",
    "                    #[\"mrda\", 50],\n",
    "                    #[\"swda\", 50],\n",
    "                    [\"dyda_da\", 5],\n",
    "                    [\"dyda_e\", 5],\n",
    "                    #[\"meld_s\", 5],\n",
    "                    #[\"meld_e\", 5]\n",
    "                    ]\n",
    "\n",
    "_list_encoder = [\"bert-base-cased\", \"xlnet-base-cased\"]\n",
    "\n",
    "_list_data_format_decoder = [[\"MLP\", \"concatenate\"], [\"GRU\", \"separate\"]]\n",
    "\n",
    "_list_inputs = list(product(_list_datasets_T, _list_encoder, _list_data_format_decoder))\n",
    "\n",
    "_possible_pipelines = {\"inputs\": _list_inputs, \"outputs\": []}\n",
    "\n",
    "df_global_report = DataFrame()"
   ]
  },
  {
   "cell_type": "code",
   "execution_count": 4,
   "metadata": {},
   "outputs": [],
   "source": [
    "for _input in _possible_pipelines[\"inputs\"]:\n",
    "    \"\"\"compile the model\"\"\"\n",
    "    _pipeline = Pipeline(_input[0][0], _input[0][1], _input[1], _input[2][0], _input[2][1])\n",
    "    _pipeline.summarize()\n",
    "\n",
    "    \"\"\"store outputs\"\"\"\n",
    "    _pipeline.df_report.to_csv(\n",
    "                 f\"./data/outputs_data/df_{_input[0][0]}_{_input[1].split('-')[0]}_{_input[2][0]}.csv\",\n",
    "                 index=False,\n",
    "                 sep=\"|\",\n",
    "                 encoding='utf-8')\n",
    "    df_global_report = concat([df_global_report, _pipeline.df_report]).reset_index(drop=True)\n",
    "    _possible_pipelines[\"outputs\"].append(_pipeline.confusion_matrix)\n",
    "\n",
    "    \"\"\"plot and save the confusion matrix\"\"\"\n",
    "    _list_labels = Format(_input[0][0], _input[0][1], _input[2][1]).get_distincts_labels()\n",
    "    _plot_confusion_matrix(_pipeline.confusion_matrix, _input, _list_labels)"
   ]
  },
  {
   "cell_type": "code",
   "execution_count": null,
   "metadata": {},
   "outputs": [],
   "source": [
    "df_global_report"
   ]
  },
  {
   "cell_type": "code",
   "execution_count": null,
   "metadata": {},
   "outputs": [],
   "source": []
  }
 ],
 "metadata": {
  "kernelspec": {
   "display_name": "base",
   "language": "python",
   "name": "python3"
  },
  "language_info": {
   "codemirror_mode": {
    "name": "ipython",
    "version": 3
   },
   "file_extension": ".py",
   "mimetype": "text/x-python",
   "name": "python",
   "nbconvert_exporter": "python",
   "pygments_lexer": "ipython3",
   "version": "3.10.9"
  },
  "orig_nbformat": 4,
  "vscode": {
   "interpreter": {
    "hash": "3fa046f995eb80ac40c0869a1f9df46519f4ada8b8c395ef25dd1aa1a1a2fc63"
   }
  }
 },
 "nbformat": 4,
 "nbformat_minor": 2
}
