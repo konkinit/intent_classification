{
 "cells": [
  {
   "cell_type": "code",
   "execution_count": null,
   "metadata": {},
   "outputs": [],
   "source": [
    "import os\n",
    "import sys\n",
    "import pandas as pd\n",
    "import numpy as np\n",
    "import seaborn as sns\n",
    "import matplotlib.pyplot as plt\n",
    "from itertools import product\n",
    "os.chdir(\"../\")\n",
    "from src.data.processing_data import Format\n",
    "from src.models.pipelines import Pipeline"
   ]
  },
  {
   "cell_type": "code",
   "execution_count": null,
   "metadata": {},
   "outputs": [],
   "source": []
  },
  {
   "cell_type": "code",
   "execution_count": null,
   "metadata": {},
   "outputs": [],
   "source": [
    "pd.set_option('display.max_columns', None)\n",
    "sns.set_theme()"
   ]
  },
  {
   "attachments": {},
   "cell_type": "markdown",
   "metadata": {},
   "source": [
    "# Prediction Global Report"
   ]
  },
  {
   "cell_type": "code",
   "execution_count": null,
   "metadata": {},
   "outputs": [],
   "source": [
    "_list_datasets_T = [[\"swda\", 50],\n",
    "                    [\"dyda_da\", 5],\n",
    "                    [\"mrda\", 50],\n",
    "                    [\"dyda_e\", 5],\n",
    "                    [\"meld_s\", 5],\n",
    "                    [\"meld_e\", 5]]\n",
    "\n",
    "_list_encoder = [\"bert-base-cased\", \"xlnet-base-cased\"]\n",
    "\n",
    "_list_data_format_decoder = [[\"MLP\", \"concatenate\"], [\"GRU\", \"separate\"]]\n",
    "\n",
    "_list_inputs = list(product(_list_datasets_T, _list_encoder, _list_data_format_decoder))\n",
    "\n",
    "_possible_pipelines = {\n",
    "                            \"inputs\": _list_inputs, \n",
    "                            \"outputs\": []\n",
    "                        }\n",
    "\n",
    "df_global_report = pd.DataFrame()"
   ]
  },
  {
   "cell_type": "code",
   "execution_count": null,
   "metadata": {},
   "outputs": [],
   "source": [
    "_possible_pipelines"
   ]
  },
  {
   "cell_type": "code",
   "execution_count": null,
   "metadata": {},
   "outputs": [],
   "source": [
    "for _input in _possible_pipelines[\"inputs\"]:\n",
    "    _pipeline = Pipeline(_input[0][0], _input[0][1], _input[1], _input[2][0], _input[2][1])\n",
    "    _pipeline.summarize()\n",
    "    df_global_report = pd.concat([df_global_report, _pipeline.df_report]).reset_index(drop=True)\n",
    "    _possible_pipelines[\"outputs\"].append(_pipeline.confusion_matrix)\n",
    "    df_cm = pd.DataFrame(\n",
    "    _pipeline.confusion_matrix,\n",
    "    Format(_input[0][0], _input[0][1], \"separate\").get_distincts_labels(),\n",
    "    Format(_input[0][0], _input[0][1], \"separate\").get_distincts_labels())\n",
    "    plt.figure(figsize=(5, 5))\n",
    "    sns.set(font_scale=1)\n",
    "    sns.heatmap(df_cm,\n",
    "                annot=True,\n",
    "                annot_kws={\"size\": 8},\n",
    "                cmap=sns.color_palette(\"ch:start=.2,rot=-.3\", as_cmap=True), \n",
    "                cbar=False)\n",
    "    plt.savefig(\n",
    "        f\"../intent_classification/figs/{_input[0][0]}_{_input[1].split(\"-\")[0]}_{_input[2][0]}.pdf\")\n",
    "    plt.show()"
   ]
  },
  {
   "cell_type": "code",
   "execution_count": null,
   "metadata": {},
   "outputs": [],
   "source": [
    "df_global_report"
   ]
  },
  {
   "cell_type": "code",
   "execution_count": null,
   "metadata": {},
   "outputs": [],
   "source": [
    "_possible_pipelines[\"outputs\"]"
   ]
  },
  {
   "cell_type": "code",
   "execution_count": null,
   "metadata": {},
   "outputs": [],
   "source": []
  }
 ],
 "metadata": {
  "kernelspec": {
   "display_name": "base",
   "language": "python",
   "name": "python3"
  },
  "language_info": {
   "codemirror_mode": {
    "name": "ipython",
    "version": 3
   },
   "file_extension": ".py",
   "mimetype": "text/x-python",
   "name": "python",
   "nbconvert_exporter": "python",
   "pygments_lexer": "ipython3",
   "version": "3.10.8 | packaged by conda-forge | (main, Nov 22 2022, 08:26:04) [GCC 10.4.0]"
  },
  "orig_nbformat": 4,
  "vscode": {
   "interpreter": {
    "hash": "3fa046f995eb80ac40c0869a1f9df46519f4ada8b8c395ef25dd1aa1a1a2fc63"
   }
  }
 },
 "nbformat": 4,
 "nbformat_minor": 2
}
